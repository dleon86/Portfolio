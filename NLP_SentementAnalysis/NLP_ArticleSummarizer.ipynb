{
 "cells": [
  {
   "cell_type": "markdown",
   "source": [
    "## 1. Importing Packages\n",
    "- We use the requests module to get the source html data of the web article\n",
    "- We will import the Beautiful Soup library to parse the scraped web data\n",
    "- We will import the HuggingFace Transformers package and use the summarization pipeline"
   ],
   "metadata": {
    "collapsed": false,
    "pycharm": {
     "name": "#%% md\n"
    }
   }
  },
  {
   "cell_type": "code",
   "execution_count": 1,
   "metadata": {
    "collapsed": true,
    "pycharm": {
     "name": "#%%\n"
    }
   },
   "outputs": [],
   "source": [
    "import requests\n",
    "from bs4 import BeautifulSoup\n",
    "from transformers import pipeline"
   ]
  },
  {
   "cell_type": "markdown",
   "source": [
    "## 2. Pull down the html for the article\n",
    "- We are choosing an arbitrary article on www.bloomberg.com/markets/economics\n",
    "\n",
    "Use requests to pull the html data for the article"
   ],
   "metadata": {
    "collapsed": false,
    "pycharm": {
     "name": "#%% md\n"
    }
   }
  },
  {
   "cell_type": "code",
   "execution_count": 2,
   "outputs": [],
   "source": [
    "URL = \"https://hackernoon.com/will-layer-1-public-blockchains-rise-or-fall-in-the-next-bull-market\"\n",
    "# URL = \"https://hackernoon.com/how-to-manage-your-technology-and-reduce-your-digital-distractions\"  #\"https://medium.com/codex/why-i-stopped-using-gmail-and-why-should-you-too-c542341ef8f1\"\n",
    "a = requests.get(URL)\n",
    "# a.text  # text is non-formatted. Use Beautiful Soup!"
   ],
   "metadata": {
    "collapsed": false,
    "pycharm": {
     "name": "#%%\n"
    }
   }
  },
  {
   "cell_type": "markdown",
   "source": [
    "## 3. Use Beautiful Soup\n",
    "BS to parse the webpage and pull the header and paragraph tags"
   ],
   "metadata": {
    "collapsed": false,
    "pycharm": {
     "name": "#%% md\n"
    }
   }
  },
  {
   "cell_type": "code",
   "execution_count": 3,
   "outputs": [],
   "source": [
    "soup = BeautifulSoup(a.text, 'html.parser')\n",
    "# results = soup.find_all(['h1', 'p'])\n",
    "# results = soup.find_all(['h1', 'h2', 'p', 'li', 'ol'])\n",
    "results = soup.find_all(['h1', 'h2', 'h3', 'p'])"
   ],
   "metadata": {
    "collapsed": false,
    "pycharm": {
     "name": "#%%\n"
    }
   }
  },
  {
   "cell_type": "code",
   "execution_count": 4,
   "outputs": [],
   "source": [
    "# soup\n",
    "text = [result.text for result in results]\n",
    "article = ''.join(text)\n",
    "# article\n",
    "# soup.prettify()"
   ],
   "metadata": {
    "collapsed": false,
    "pycharm": {
     "name": "#%%\n"
    }
   }
  },
  {
   "cell_type": "markdown",
   "source": [
    "## 4. Break text into sentence blocks"
   ],
   "metadata": {
    "collapsed": false,
    "pycharm": {
     "name": "#%% md\n"
    }
   }
  },
  {
   "cell_type": "code",
   "execution_count": 51,
   "outputs": [],
   "source": [
    "def bsArticle(url):\n",
    "    r'''This function takes url's for articles from webpages with simple structure and outputs the sentences tagged\n",
    "    with <eos> tags'''\n",
    "    a = requests.get(URL)\n",
    "    soup = BeautifulSoup(a.text, 'html.parser')\n",
    "    results = soup.find_all(['h1', 'h2', 'h3', 'p'])\n",
    "    text = [result.text for result in results]\n",
    "    article = ''.join(text)\n",
    "    sentences = add_eos(article)\n",
    "    return block_sentences(sentences)\n",
    "\n",
    "\n",
    "def add_eos(raw_article):\n",
    "    # add end-of-sentence markers\n",
    "    # if type(raw_article) == 'list':\n",
    "    #     raw_article = raw_article.replace('.', '.<eos>')\n",
    "    #     raw_article = raw_article.replace('!', '!<eos>')\n",
    "    #     raw_article = raw_article.replace('?', '?<eos>')\n",
    "\n",
    "    raw_article = raw_article.replace('.', '.<eos>')\n",
    "    raw_article = raw_article.replace('!', '!<eos>')\n",
    "    raw_article = raw_article.replace('?', '?<eos>')\n",
    "    return split_sentences(raw_article)\n",
    "\n",
    "\n",
    "def split_sentences(raw_article):\n",
    "    # function for splitting a string element comprised of multiple sentences into individual sentences\n",
    "    return raw_article.split('<eos>')\n",
    "\n",
    "\n",
    "def block_sentences(sentences, max_block_size=2 ** 8):\n",
    "    '''this function puts the sentences into blocks up to a max size'''\n",
    "    blocks = []\n",
    "    i = 0\n",
    "\n",
    "    for sentence in sentences:\n",
    "        if len(blocks) == i + 1:\n",
    "            if len(blocks[i]) + len(sentence.split(' ')) <= max_block_size:\n",
    "                blocks[i].extend(sentence.split(' '))\n",
    "            else:\n",
    "                i += 1\n",
    "                blocks.append(sentence.split(' '))\n",
    "        else:\n",
    "            blocks.append(sentence.split(' '))\n",
    "\n",
    "    for i in range(len(blocks)):\n",
    "        blocks[i] = ' '.join(blocks[i])\n",
    "\n",
    "    return blocks\n",
    "\n",
    "\n",
    "def reSummarize(summary):\n",
    "    r'''This function takes a summary that was already generated and re-runs it through the pipeline for a more\n",
    "    condensed summary'''\n",
    "    # a = requests.get(URL)\n",
    "    # soup = BeautifulSoup(a.text, 'html.parser')\n",
    "    # results = soup.find_all(['h1', 'h2', 'h3', 'p'])\n",
    "    text = [sentence['summary_text'] for sentence in summary]\n",
    "    article = ''.join(text)\n",
    "    sentences = add_eos(article)\n",
    "    return block_sentences(sentences, max_block_size=2 ** 8)"
   ],
   "metadata": {
    "collapsed": false,
    "pycharm": {
     "name": "#%%\n"
    }
   }
  },
  {
   "cell_type": "code",
   "execution_count": 12,
   "outputs": [
    {
     "name": "stdout",
     "output_type": "stream",
     "text": [
      "Number of blocks of text: 18\n"
     ]
    }
   ],
   "source": [
    "blocks = bsArticle(URL)\n",
    "\n",
    "# sentences = add_eos(article)\n",
    "# blocks = block_sentences(sentences)\n",
    "# # article = add_eos(article)\n",
    "#\n",
    "# # sentences = article.split('<eos>')\n",
    "\n",
    "print(f'Number of blocks of text: {len(blocks)}')"
   ],
   "metadata": {
    "collapsed": false,
    "pycharm": {
     "name": "#%%\n"
    }
   }
  },
  {
   "cell_type": "markdown",
   "source": [
    "## 5. Use HuggingFace Summarization Pipeline"
   ],
   "metadata": {
    "collapsed": false,
    "pycharm": {
     "name": "#%% md\n"
    }
   }
  },
  {
   "cell_type": "code",
   "execution_count": 13,
   "outputs": [],
   "source": [
    "summarizer = pipeline(\"summarization\", model=\"../sshleifer/distilbart-cnn-12-6\")"
   ],
   "metadata": {
    "collapsed": false,
    "pycharm": {
     "name": "#%%\n"
    }
   }
  },
  {
   "cell_type": "code",
   "execution_count": 14,
   "outputs": [],
   "source": [
    "summary = summarizer(blocks, min_length=16, max_length=128, do_sample=False)\n",
    "# a[0]"
   ],
   "metadata": {
    "collapsed": false,
    "pycharm": {
     "name": "#%%\n"
    }
   }
  },
  {
   "cell_type": "markdown",
   "source": [
    "{'summary_text': ' A digital distraction is any non-essential technology use that takes your attention away from what you need to be doing at any given moment in time . The average person spends nearly half of their daily time awake either looking at their phone or thinking about it . There are a number of ways that you can manage your technology in order to reduce distractions .'}"
   ],
   "metadata": {
    "collapsed": false,
    "pycharm": {
     "name": "#%% md\n"
    }
   }
  },
  {
   "cell_type": "code",
   "execution_count": 15,
   "outputs": [
    {
     "name": "stdout",
     "output_type": "stream",
     "text": [
      " The development of alternative Layer-1s could be a successful way forward for the blockchain industry and Web 3. 0 to shape the next generation of the Internet .\n",
      " Layer-1s that have healthy technological foundations and continually attract native projects will have a good chance of surviving across the bulls and bears phases of the market . The public blockchain will also continue to gradually differentiate into other different development paths like general purpose, privacy, and specialized application blockchains .\n",
      " The relatively new public chain Solana, which emerged in the last bull market, currently has a bear market FDV of less than 20 billion US dollars . The formation of a stable ecosystem that can enable more application value and hence drive more value at the Layer-1 protocol level in the long run .\n",
      " The three stages of the development of Layer-1 public blockchains can be divided roughly into the following three stages . The first stage was from 2008 to 2013 after Satoshi Nakamoto published the Bitcoin white paper and as the first invention of its kind, Bitcoin naturally became popular . The second stage was the addition of Turing completeness .\n",
      " The concept enabled the creation of smart contracts on the blockchain for the first time, and it now had the programmability to carry applications . At the same time, with the introduction of applications such as CryptoKitties, people first began to actually experience applications enabled by blockchain technology . Public Layer-1 blockchains created during this period generally focused on smart contract functionality .\n",
      " The characteristic public blockchain is a concept separated from the standard generalized public blockchain . It subdivides the characteristics of the blockchain at the level of technical characteristics, Product-Market fit, and value narrative . The development of blockchains will continue to differentiate further into alternative paths like permissioned systems, privacy-focused and specific application blockchains .\n",
      " The Aptos team believes that the user experience needs to be significantly improved in terms of security and scalability to reach mass adoption . The public mainnet look to be released in the third quarter of this year .\n",
      " The Aptos development team created the Move programming language to improve blockchain security . Not only is Move designed to write smart contracts, but it can also be used by users to manage their accounts, change node settings, adjust commission and add new features . The current Ecosystem includes stablecoins, DEXs, wallets, lending markets, and oracles .\n",
      " Sui attempts to solve the blockchain trilemma, but it focuses on scaling composable and dynamic NFTs for a wide range of Metaverse applications including gaming, social, and commerce . Sui achieved good financing results in the bear market (valuation of $2 billion), and released a token economics model before Aptos .\n",
      " Sui has issued incentivized testnet registration and released the Chrome extension self-hosted wallet “Sui Wallet” Besides the wallet, there are browsers, games, and social metaverse projects currently under construction . Sui’s organic positioning is more inclined to the expansion of a wide range of metaverse applications including games, social networking, and commerce .\n",
      " Assembly uses a process similar to the ETH2. 0 fraud-proof Rollup . Each smart contract chain built on Assembly is the real Layer 2. 5, which is a smart contract framework layer . The network cost of building applications or interactive use based on Assembly will be the lowest in the entire public blockchain market .\n",
      " Mina — a lightweight public blockchain with characteristic ZK-Snark technology . Mina is able to maintain a fixed size of the entire chain by using a series of self-referential cryptographic proofs .\n",
      " Mina has focused on the issue with the ever-increasing size of data and growth of transactions, accounts, tokens, contracts, and other on-chain information . The vision of Blockchain is to achieve self-validation, and Mina is the only blockchain that can achieve it . Mina’s non-consensus nodes will run on smartphones or browsers .\n",
      " Mina currently uses the Pickles inductive proof system to complete the KYC operation of certain applications without revealing the user’s identity information . EMIT-Core — a modular high-performance cross-chain public blockchain — is a sub-project of the EMIT project .\n",
      " EMIT-Core adopts a Random-Check algorithm to confirm blocks and supports diversified assets . Block-Lattice ledger is the vertically most limited sharding method as each account is a shard . It decouples transactions and splits them into two parts: origination and reception .\n",
      " EMIT aims to “integrate the assets of the crypto world and create an economically complete decentralized world” The EMIT project has its cross-chain wallet and ecological applications such as Cross, Chaos, Altar, TeamMining, StarGrid, RelicsMarket, Accounts, Assets, Bangs, etc. These are built on the basis of EMIT-Core technology .\n",
      " The development in public blockchains we observe tends to be modular, loosely coupled, and parallel to vertical application fields . The general-purpose L1 market such as ETH is gradually becoming a red sea . Even if the ETH 2. 0 merger and sharding expansion is completed, it does not mean that ETH will be able to fully handle the potential increased number of users and high demands .\n",
      " The high-performance demands of these 1,000 times additional users can obviously not be met . Even if it is crowded, there are still opportunities in the public blockchain space . The market needs a modular, general-purpose public chain that grafts and superimposes the best resources in the Web 3. 0 world .\n"
     ]
    }
   ],
   "source": [
    "def readSummary(summary):\n",
    "    for sentence in summary:\n",
    "        print(sentence['summary_text'])\n",
    "\n",
    "\n",
    "readSummary(summary)"
   ],
   "metadata": {
    "collapsed": false,
    "pycharm": {
     "name": "#%%\n"
    }
   }
  },
  {
   "cell_type": "code",
   "execution_count": 52,
   "outputs": [
    {
     "name": "stdout",
     "output_type": "stream",
     "text": [
      " Layer-1s that have healthy technological foundations and continually attract native projects will have a good chance of surviving across the bulls and bears phases of the market . Public blockchain will continue to gradually differentiate into other different development paths like general purpose, privacy, and specialized application blockchains . The relatively new public chain Solana, which emerged in the last bull market, currently has a bear market FDV of less than 20 billion US dollars .\n",
      " Public Layer-1 blockchains created during this period generally focused on smart contract functionality . The characteristic public blockchain is a concept separated from the standard generalized public blockchain . The development of blockchains will continue to differentiate further into alternative paths like permissioned systems, privacy-focused and specific application blockchains . The public mainnet look to be released in the third quarter of this year .\n",
      " Sui has issued incentivized testnet registration and released the Chrome extension self-hosted wallet “Sui Wallet” Besides the wallet, there are browsers, games, and social metaverse projects currently under construction . Sui’s organic positioning is more inclined to the expansion of a wide range of metaverse applications including games, social networking, and commerce .\n",
      " EMIT aims to “integrate the assets of the crypto world and create an economically complete decentralized world” The EMIT project has its cross-chain wallet and ecological applications such as Cross, Chaos, Altar, TeamMining, StarGrid, RelicsMarket, Accounts, Assets, Bangs, etc. These are built on the basis of EMIT-Core technology .\n"
     ]
    }
   ],
   "source": [
    "blocks2 = reSummarize(summary)\n",
    "summary2 = summarizer(blocks2, min_length=16, max_length=128, do_sample=False)\n",
    "readSummary(summary2)"
   ],
   "metadata": {
    "collapsed": false,
    "pycharm": {
     "name": "#%%\n"
    }
   }
  },
  {
   "cell_type": "code",
   "execution_count": 55,
   "outputs": [
    {
     "name": "stdout",
     "output_type": "stream",
     "text": [
      " Layer-1s that have healthy technological foundations and continually attract native projects will have a good chance of surviving across the bulls and bears phases of the market . The relatively new public chain Solana, which emerged in the last bull market, currently has a bear market FDV of less than 20 billion US dollars\n"
     ]
    }
   ],
   "source": [
    "blocks3 = reSummarize(summary2)\n",
    "summary3 = summarizer(blocks3, min_length=16, max_length=64, do_sample=False)\n",
    "readSummary(summary3)"
   ],
   "metadata": {
    "collapsed": false,
    "pycharm": {
     "name": "#%%\n"
    }
   }
  }
 ],
 "metadata": {
  "kernelspec": {
   "display_name": "Python 3 (ipykernel)",
   "language": "python",
   "name": "python3"
  },
  "language_info": {
   "codemirror_mode": {
    "name": "ipython",
    "version": 3
   },
   "file_extension": ".py",
   "mimetype": "text/x-python",
   "name": "python",
   "nbconvert_exporter": "python",
   "pygments_lexer": "ipython3",
   "version": "3.10.4"
  }
 },
 "nbformat": 4,
 "nbformat_minor": 1
}